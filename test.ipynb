{
 "cells": [
  {
   "cell_type": "code",
   "execution_count": 53,
   "metadata": {},
   "outputs": [
    {
     "ename": "ModuleNotFoundError",
     "evalue": "No module named 'distutils'",
     "output_type": "error",
     "traceback": [
      "\u001b[1;31m---------------------------------------------------------------------------\u001b[0m",
      "\u001b[1;31mModuleNotFoundError\u001b[0m                       Traceback (most recent call last)",
      "Cell \u001b[1;32mIn[53], line 3\u001b[0m\n\u001b[0;32m      1\u001b[0m \u001b[38;5;28;01mimport\u001b[39;00m \u001b[38;5;21;01mnumpy\u001b[39;00m \u001b[38;5;28;01mas\u001b[39;00m \u001b[38;5;21;01mnp\u001b[39;00m\n\u001b[0;32m      2\u001b[0m \u001b[38;5;28;01mfrom\u001b[39;00m \u001b[38;5;21;01msklearn\u001b[39;00m\u001b[38;5;21;01m.\u001b[39;00m\u001b[38;5;21;01mpreprocessing\u001b[39;00m \u001b[38;5;28;01mimport\u001b[39;00m StandardScaler\n\u001b[1;32m----> 3\u001b[0m \u001b[38;5;28;01mimport\u001b[39;00m \u001b[38;5;21;01mtensorflow\u001b[39;00m \u001b[38;5;28;01mas\u001b[39;00m \u001b[38;5;21;01mtf\u001b[39;00m\n\u001b[0;32m      4\u001b[0m \u001b[38;5;28;01mfrom\u001b[39;00m \u001b[38;5;21;01mtensorflow\u001b[39;00m\u001b[38;5;21;01m.\u001b[39;00m\u001b[38;5;21;01mkeras\u001b[39;00m\u001b[38;5;21;01m.\u001b[39;00m\u001b[38;5;21;01mmodels\u001b[39;00m \u001b[38;5;28;01mimport\u001b[39;00m load_model\n",
      "File \u001b[1;32mc:\\Users\\developer\\AppData\\Local\\Programs\\Python\\Python312\\Lib\\site-packages\\tensorflow\\__init__.py:30\u001b[0m\n\u001b[0;32m     15\u001b[0m \u001b[38;5;124;03m\"\"\"\u001b[39;00m\n\u001b[0;32m     16\u001b[0m \u001b[38;5;124;03mTop-level module of TensorFlow. By convention, we refer to this module as\u001b[39;00m\n\u001b[0;32m     17\u001b[0m \u001b[38;5;124;03m`tf` instead of `tensorflow`, following the common practice of importing\u001b[39;00m\n\u001b[1;32m   (...)\u001b[0m\n\u001b[0;32m     26\u001b[0m \u001b[38;5;124;03mthis file with a file generated from [`api_template.__init__.py`](https://www.github.com/tensorflow/tensorflow/blob/master/tensorflow/api_template.__init__.py)\u001b[39;00m\n\u001b[0;32m     27\u001b[0m \u001b[38;5;124;03m\"\"\"\u001b[39;00m\n\u001b[0;32m     28\u001b[0m \u001b[38;5;66;03m# pylint: disable=g-bad-import-order,protected-access,g-import-not-at-top\u001b[39;00m\n\u001b[1;32m---> 30\u001b[0m \u001b[38;5;28;01mimport\u001b[39;00m \u001b[38;5;21;01mdistutils\u001b[39;00m \u001b[38;5;28;01mas\u001b[39;00m \u001b[38;5;21;01m_distutils\u001b[39;00m\n\u001b[0;32m     31\u001b[0m \u001b[38;5;28;01mimport\u001b[39;00m \u001b[38;5;21;01mimportlib\u001b[39;00m\n\u001b[0;32m     32\u001b[0m \u001b[38;5;28;01mimport\u001b[39;00m \u001b[38;5;21;01minspect\u001b[39;00m \u001b[38;5;28;01mas\u001b[39;00m \u001b[38;5;21;01m_inspect\u001b[39;00m\n",
      "\u001b[1;31mModuleNotFoundError\u001b[0m: No module named 'distutils'"
     ]
    }
   ],
   "source": [
    "import numpy as np\n",
    "from sklearn.preprocessing import StandardScaler\n",
    "import tensorflow as tf\n",
    "from tensorflow.keras.models import load_model"
   ]
  },
  {
   "cell_type": "code",
   "execution_count": 34,
   "metadata": {},
   "outputs": [],
   "source": [
    "# Datos de prueba ficticios (sustitúyelos por datos reales si los tienes)\n",
    "edad = 35\n",
    "peso = 70\n",
    "genero = 1  # 1 para masculino, 0 para femenino\n",
    "sintomas = [1, 0, 1, 0, 0, 1, 0, 0, 0]  # Por ejemplo, [dolor de cabeza, fatiga, nauseas, ...]\n",
    "habitos = [0, \"regular\", \"saludable\", {\"horas_diarias\": 8, \"calidad\": \"buena\"}, 1, 2000, \"medio\", True, \"mucho\", 1]  # Por ejemplo, [tabaco, actividad_fisica, dieta, sueno, consumo_alcohol, consumo_agua_diario, estres, ejercicio_mental, tiempo_aire_libre, consumo_cafeina]"
   ]
  },
  {
   "cell_type": "code",
   "execution_count": 45,
   "metadata": {},
   "outputs": [],
   "source": [
    "# Preprocesamiento de datos\n",
    "X_prueba = np.array([edad, peso, genero] + sintomas + habitos).reshape(1, -1)\n",
    "\n",
    "# Normalización de características numéricas\n",
    "scaler = StandardScaler()\n",
    "X_prueba_scaled = scaler.fit_transform(X_prueba)\n",
    "\n",
    "# Cargar el modelo entrenado\n",
    "modelo_entrenado = load_model('modelo_entrenado_tf.h5')\n",
    "\n",
    "# Realizar la predicción\n",
    "prediccion = modelo_entrenado.predict(X_prueba_scaled)\n",
    "\n",
    "# Obtener el índice de la clase con mayor probabilidad (tratamiento preventivo)\n",
    "indice_prediccion = np.argmax(prediccion)\n",
    "\n",
    "# Definir la lista de tratamientos preventivos\n",
    "tratamientos_preventivos = [\n",
    "    \"Vacuna contra la gripe\",\n",
    "    \"Aspirina para la prevención de enfermedades cardíacas\",\n",
    "    \"Ejercicio regular\",\n",
    "    \"Dieta rica en fibra para prevenir el cáncer de colon\",\n",
    "    \"Exámenes de detección regulares para enfermedades crónicas\",\n",
    "    \"Consumo de ácidos grasos omega-3 para la salud cardíaca\",\n",
    "    \"Vacuna contra el virus del papiloma humano (VPH)\",\n",
    "    \"Exámenes de la vista regulares para detectar problemas de salud ocular\",\n",
    "    \"Vacunación contra la hepatitis B\",\n",
    "    \"Consumo moderado de alcohol para la salud cardiovascular\",\n",
    "    \"Uso de protector solar para prevenir el cáncer de piel\",\n",
    "    \"Terapia de reemplazo hormonal para prevenir la osteoporosis en mujeres posmenopáusicas\",\n",
    "    \"Exámenes de detección de cáncer de mama\",\n",
    "    \"Uso de condones para prevenir enfermedades de transmisión sexual\"\n",
    "]\n",
    "\n",
    "# Imprimir el tratamiento preventivo predicho\n",
    "print(\"Tratamiento preventivo recomendado:\", tratamientos_preventivos[indice_prediccion])"
   ]
  }
 ],
 "metadata": {
  "kernelspec": {
   "display_name": "Python 3",
   "language": "python",
   "name": "python3"
  },
  "language_info": {
   "codemirror_mode": {
    "name": "ipython",
    "version": 3
   },
   "file_extension": ".py",
   "mimetype": "text/x-python",
   "name": "python",
   "nbconvert_exporter": "python",
   "pygments_lexer": "ipython3",
   "version": "3.12.2"
  }
 },
 "nbformat": 4,
 "nbformat_minor": 2
}
