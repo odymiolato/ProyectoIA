{
 "cells": [
  {
   "cell_type": "code",
   "execution_count": 124,
   "metadata": {},
   "outputs": [],
   "source": [
    "import tensorflow as tf\n",
    "from tensorflow.keras.optimizers import Adam\n",
    "import numpy as np\n",
    "import matplotlib.pyplot as plt\n",
    "from pymongo import MongoClient\n",
    "from tqdm import tqdm"
   ]
  },
  {
   "cell_type": "code",
   "execution_count": 160,
   "metadata": {},
   "outputs": [],
   "source": [
    "client = MongoClient('localhost', 27017)\n",
    "db = client['IAtest']\n",
    "\n",
    "analisis_predictivos = db['modelos_de_analisis']\n",
    "data = list(analisis_predictivos.find())"
   ]
  },
  {
   "cell_type": "code",
   "execution_count": 116,
   "metadata": {},
   "outputs": [],
   "source": [
    "acciones_preventivas = [\n",
    "    \"Mantener reposo en cama\",\n",
    "    \"Beber líquidos abundantes\",\n",
    "    \"Tomar medicamentos para el dolor de cabeza\",\n",
    "    \"Consultar a un médico\",\n",
    "    \"Realizar ejercicios de respiración profunda\",\n",
    "    \"Evitar alimentos grasosos\",\n",
    "    \"Aplicar compresas frías en la frente\",\n",
    "    \"Monitorear la presión arterial regularmente\",\n",
    "]"
   ]
  },
  {
   "cell_type": "code",
   "execution_count": 161,
   "metadata": {},
   "outputs": [
    {
     "name": "stderr",
     "output_type": "stream",
     "text": [
      "Realizando Analisis: 100%|██████████| 800000/800000 [00:02<00:00, 315856.03modelo/s]\n"
     ]
    }
   ],
   "source": [
    "# Datos de ejemplo: síntomas, signos vitales y acciones preventivas\n",
    "# sintomas_list = np.array([[1, 0, 1, 0, 1, 0, 1, 0, 1],\n",
    "#                      [0, 0, 0, 0, 0, 1, 1, 1, 1],\n",
    "#                      [0, 1, 0, 1, 0, 1, 0, 1, 0],\n",
    "#                      [1, 1, 1, 1, 1, 1, 1, 1, 1],\n",
    "#                      [0, 0, 1, 0, 1, 1, 0, 0, 0]])\n",
    "\n",
    "# signos_vitales_list = np.array([[37.5, 120, 80, 70, 100, 1.5],\n",
    "#                    [37.0, 118, 78, 72, 105, 1.6],\n",
    "#                    [37.3, 122, 82, 68, 95, 1.7],\n",
    "#                    [36.9, 119, 79, 75, 110, 1.8],\n",
    "#                    [37.2, 121, 81, 71, 98, 1.9]])\n",
    "\n",
    "# acciones_preventivas_list = np.array([5.0, 10.0, 15.0, 20.0, 25.0])\n",
    "\n",
    "sintomas_list = []\n",
    "signos_vitales_list = []\n",
    "acciones_preventivas_list = []\n",
    "caracteristica_list = []\n",
    "\n",
    "for value in tqdm(data, desc=\"Realizando Analisis\", unit=\"modelo\"):\n",
    "    caracteristica = []\n",
    "    sintomas = value[\"sintomas\"]\n",
    "    # print(sintomas)\n",
    "    caracteristica = [1 if sintoma else 0 for sintoma in sintomas.values()]\n",
    "    \n",
    "    signos_vitales = value[\"signos_vitales\"]\n",
    "    # print(signos_vitales)\n",
    "    # sintomas_codificados = [ ]\n",
    "    for signos_vitales in signos_vitales.values():\n",
    "        caracteristica.append(signos_vitales)\n",
    "    # print(sintomas_codificados) \n",
    "    caracteristica_list.append(caracteristica)\n",
    "    # signos_vitales_list.append(caracteristica)\n",
    "    \n",
    "    acciones_preventivas_list.append(acciones_preventivas.index(value[\"accion_preventiva\"]))\n",
    "\n",
    "# sintomas_list = np.array(sintomas_list)\n",
    "# signos_vitales_list = np.array(signos_vitales_list)\n",
    " \n",
    "caracteristica_list = np.array(caracteristica_list)\n",
    "acciones_preventivas_list = np.array(acciones_preventivas_list)"
   ]
  },
  {
   "cell_type": "code",
   "execution_count": 162,
   "metadata": {},
   "outputs": [
    {
     "name": "stdout",
     "output_type": "stream",
     "text": [
      "800000\n",
      "800000\n"
     ]
    }
   ],
   "source": [
    "# print(sintomas_list)\n",
    "# print(sintomas_list)\n",
    "# print(signos_vitales_list)\n",
    "print(len(caracteristica_list))\n",
    "print(len(acciones_preventivas_list))"
   ]
  },
  {
   "cell_type": "code",
   "execution_count": 170,
   "metadata": {},
   "outputs": [],
   "source": [
    "# Definición del modelo de regresión lineal\n",
    "model = tf.keras.Sequential([\n",
    "    tf.keras.layers.Dense(units=1, input_shape=[15])  # 15 características de entrada (síntomas)\n",
    "])\n",
    "\n",
    "# Compilación del modelo\n",
    "# model.compile(optimizer='Adam', loss='mean_squared_error')\n",
    "\n",
    "model.compile(optimizer=Adam(0.01), loss='mean_squared_error')\n",
    "# model.compile(optimizer='sgd', loss='mean_squared_error')\n",
    "\n",
    "caracteristica_list = tf.stack(caracteristica_list)\n",
    "acciones_preventivas_list = tf.stack(acciones_preventivas_list)"
   ]
  },
  {
   "cell_type": "code",
   "execution_count": 171,
   "metadata": {},
   "outputs": [
    {
     "name": "stdout",
     "output_type": "stream",
     "text": [
      "Epoch 1/10\n",
      "\u001b[1m25000/25000\u001b[0m \u001b[32m━━━━━━━━━━━━━━━━━━━━\u001b[0m\u001b[37m\u001b[0m \u001b[1m13s\u001b[0m 494us/step - loss: 11.5990\n",
      "Epoch 2/10\n",
      "\u001b[1m25000/25000\u001b[0m \u001b[32m━━━━━━━━━━━━━━━━━━━━\u001b[0m\u001b[37m\u001b[0m \u001b[1m12s\u001b[0m 495us/step - loss: 0.0126\n",
      "Epoch 3/10\n",
      "\u001b[1m25000/25000\u001b[0m \u001b[32m━━━━━━━━━━━━━━━━━━━━\u001b[0m\u001b[37m\u001b[0m \u001b[1m13s\u001b[0m 512us/step - loss: 0.0126\n",
      "Epoch 4/10\n",
      "\u001b[1m25000/25000\u001b[0m \u001b[32m━━━━━━━━━━━━━━━━━━━━\u001b[0m\u001b[37m\u001b[0m \u001b[1m12s\u001b[0m 495us/step - loss: 0.0126\n",
      "Epoch 5/10\n",
      "\u001b[1m25000/25000\u001b[0m \u001b[32m━━━━━━━━━━━━━━━━━━━━\u001b[0m\u001b[37m\u001b[0m \u001b[1m13s\u001b[0m 509us/step - loss: 0.0128\n",
      "Epoch 6/10\n",
      "\u001b[1m25000/25000\u001b[0m \u001b[32m━━━━━━━━━━━━━━━━━━━━\u001b[0m\u001b[37m\u001b[0m \u001b[1m13s\u001b[0m 503us/step - loss: 0.0124\n",
      "Epoch 7/10\n",
      "\u001b[1m25000/25000\u001b[0m \u001b[32m━━━━━━━━━━━━━━━━━━━━\u001b[0m\u001b[37m\u001b[0m \u001b[1m13s\u001b[0m 502us/step - loss: 0.0127\n",
      "Epoch 8/10\n",
      "\u001b[1m25000/25000\u001b[0m \u001b[32m━━━━━━━━━━━━━━━━━━━━\u001b[0m\u001b[37m\u001b[0m \u001b[1m13s\u001b[0m 512us/step - loss: 0.0127\n",
      "Epoch 9/10\n",
      "\u001b[1m25000/25000\u001b[0m \u001b[32m━━━━━━━━━━━━━━━━━━━━\u001b[0m\u001b[37m\u001b[0m \u001b[1m13s\u001b[0m 506us/step - loss: 0.0128\n",
      "Epoch 10/10\n",
      "\u001b[1m25000/25000\u001b[0m \u001b[32m━━━━━━━━━━━━━━━━━━━━\u001b[0m\u001b[37m\u001b[0m \u001b[1m13s\u001b[0m 519us/step - loss: 0.0126\n",
      "\u001b[1m25000/25000\u001b[0m \u001b[32m━━━━━━━━━━━━━━━━━━━━\u001b[0m\u001b[37m\u001b[0m \u001b[1m11s\u001b[0m 451us/step - loss: 7.4965e-05\n",
      "Error cuadrático medio en datos de entrenamiento: 8.116556273307651e-05\n"
     ]
    }
   ],
   "source": [
    "# Entrenamiento del modelo\n",
    "historial = model.fit(np.array(caracteristica_list), np.array(acciones_preventivas_list),epochs=10)\n",
    "\n",
    "# Evaluación del modelo\n",
    "test_loss = model.evaluate(np.array(caracteristica_list), np.array(acciones_preventivas_list))\n",
    "print(f'Error cuadrático medio en datos de entrenamiento: {test_loss}')"
   ]
  },
  {
   "cell_type": "code",
   "execution_count": 182,
   "metadata": {},
   "outputs": [
    {
     "name": "stdout",
     "output_type": "stream",
     "text": [
      "[[  1.    1.    1.    1.    0.    0.    0.    0.    0.   36.  120.   80.\n",
      "   70.  100.    1.5]]\n"
     ]
    }
   ],
   "source": [
    "new_symptoms = np.array([[1,1,1,1,0,0,0,0,0,36,120,80,70,100,1.5]])\n",
    "print(new_symptoms)"
   ]
  },
  {
   "cell_type": "code",
   "execution_count": 183,
   "metadata": {},
   "outputs": [
    {
     "name": "stdout",
     "output_type": "stream",
     "text": [
      "\u001b[1m1/1\u001b[0m \u001b[32m━━━━━━━━━━━━━━━━━━━━\u001b[0m\u001b[37m\u001b[0m \u001b[1m0s\u001b[0m 26ms/step\n",
      "Predicciones de acciones preventivas:\n",
      "Síntomas: [  1.    1.    1.    1.    0.    0.    0.    0.    0.   36.  120.   80.\n",
      "  70.  100.    1.5], Acción preventiva predicha: [0.01011397]\n"
     ]
    },
    {
     "data": {
      "image/png": "[encoded data removed]",
      "text/plain": [
       "<Figure size 640x480 with 1 Axes>"
      ]
     },
     "metadata": {},
     "output_type": "display_data"
    }
   ],
   "source": [
    "# Hacer predicciones\n",
    "predictions = model.predict(new_symptoms)\n",
    "print(\"Predicciones de acciones preventivas:\")\n",
    "for i in range(len(new_symptoms)):\n",
    "    print(f'Síntomas: {new_symptoms[i]}, Acción preventiva predicha: {predictions[i]}')\n",
    "\n",
    "# Visualización de los datos y la línea de regresión\n",
    "# plt.scatter(signos_vitales_list[:, 0], acciones_preventivas_list, color='red', label='Temperatura')\n",
    "# plt.scatter(signos_vitales_list[:, 1], acciones_preventivas_list, color='blue', label='Presión Sistólica')\n",
    "# plt.scatter(signos_vitales_list[:, 2], acciones_preventivas_list, color='green', label='Presión Diastólica')\n",
    "# plt.scatter(signos_vitales_list[:, 3], acciones_preventivas_list, color='orange', label='Frecuencia Cardiaca')\n",
    "# plt.scatter(signos_vitales_list[:, 4], acciones_preventivas_list, color='purple', label='Glucosa')\n",
    "# plt.scatter(signos_vitales_list[:, 5], acciones_preventivas_list, color='yellow', label='Presión Arterial')\n",
    "\n",
    "# plt.title('Relación entre Signos Vitales y Acciones Preventivas')\n",
    "# plt.xlabel('Signos Vitales')\n",
    "# plt.ylabel('Acciones Preventivas')\n",
    "# plt.legend()\n",
    "plt.xlabel(\"#Epoca\")\n",
    "plt.xlabel(\"Magnitud de perdida\")\n",
    "plt.plot(historial.history['loss'])\n",
    "plt.show()"
   ]
  },
  {
   "cell_type": "code",
   "execution_count": 184,
   "metadata": {},
   "outputs": [
    {
     "name": "stderr",
     "output_type": "stream",
     "text": [
      "WARNING:absl:You are saving your model as an HDF5 file via `model.save()` or `keras.saving.save_model(model)`. This file format is considered legacy. We recommend using instead the native Keras format, e.g. `model.save('my_model.keras')` or `keras.saving.save_model(model, 'my_model.keras')`. \n"
     ]
    }
   ],
   "source": [
    "model.save(\"modelo_final_tf.h5\")"
   ]
  }
 ],
 "metadata": {
  "kernelspec": {
   "display_name": "Python 3",
   "language": "python",
   "name": "python3"
  },
  "language_info": {
   "codemirror_mode": {
    "name": "ipython",
    "version": 3
   },
   "file_extension": ".py",
   "mimetype": "text/x-python",
   "name": "python",
   "nbconvert_exporter": "python",
   "pygments_lexer": "ipython3",
   "version": "3.12.2"
  }
 },
 "nbformat": 4,
 "nbformat_minor": 2
}
