{
 "cells": [
  {
   "cell_type": "code",
   "execution_count": 73,
   "metadata": {},
   "outputs": [],
   "source": [
    "import tensorflow as tf\n",
    "import numpy as np\n",
    "import matplotlib.pyplot as plt\n",
    "from pymongo import MongoClient\n",
    "from tqdm import tqdm"
   ]
  },
  {
   "cell_type": "code",
   "execution_count": 74,
   "metadata": {},
   "outputs": [],
   "source": [
    "client = MongoClient('localhost', 27017)\n",
    "db = client['IAtest']\n",
    "\n",
    "analisis_predictivos = db['modelos_de_analisis']\n",
    "data = list(analisis_predictivos.find().limit(10))"
   ]
  },
  {
   "cell_type": "code",
   "execution_count": 75,
   "metadata": {},
   "outputs": [],
   "source": [
    "acciones_preventivas = [\n",
    "    \"Mantener reposo en cama\",\n",
    "    \"Beber líquidos abundantes\",\n",
    "    \"Tomar medicamentos para el dolor de cabeza\",\n",
    "    \"Consultar a un médico\",\n",
    "    \"Realizar ejercicios de respiración profunda\",\n",
    "    \"Evitar alimentos grasosos\",\n",
    "    \"Aplicar compresas frías en la frente\",\n",
    "    \"Monitorear la presión arterial regularmente\",\n",
    "]"
   ]
  },
  {
   "cell_type": "code",
   "execution_count": 82,
   "metadata": {},
   "outputs": [
    {
     "name": "stderr",
     "output_type": "stream",
     "text": [
      "Realizando Analisis: 100%|██████████| 1/1 [00:00<?, ?modelo/s]\n"
     ]
    }
   ],
   "source": [
    "# Datos de ejemplo: síntomas, signos vitales y acciones preventivas\n",
    "# sintomas_list = np.array([[1, 0, 1, 0, 1, 0, 1, 0, 1],\n",
    "#                      [0, 0, 0, 0, 0, 1, 1, 1, 1],\n",
    "#                      [0, 1, 0, 1, 0, 1, 0, 1, 0],\n",
    "#                      [1, 1, 1, 1, 1, 1, 1, 1, 1],\n",
    "#                      [0, 0, 1, 0, 1, 1, 0, 0, 0]])\n",
    "\n",
    "# signos_vitales_list = np.array([[37.5, 120, 80, 70, 100, 1.5],\n",
    "#                    [37.0, 118, 78, 72, 105, 1.6],\n",
    "#                    [37.3, 122, 82, 68, 95, 1.7],\n",
    "#                    [36.9, 119, 79, 75, 110, 1.8],\n",
    "#                    [37.2, 121, 81, 71, 98, 1.9]])\n",
    "\n",
    "# acciones_preventivas_list = np.array([5.0, 10.0, 15.0, 20.0, 25.0])\n",
    "\n",
    "sintomas_list = []\n",
    "signos_vitales_list = []\n",
    "acciones_preventivas_list = []\n",
    "\n",
    "for value in tqdm(data, desc=\"Realizando Analisis\", unit=\"modelo\"):\n",
    "    caracteristica = []\n",
    "    sintomas = value[\"sintomas\"]\n",
    "    # print(sintomas)\n",
    "    caracteristica = [1 if sintoma else 0 for sintoma in sintomas.values()]\n",
    "    \n",
    "    signos_vitales = value[\"signos_vitales\"]\n",
    "    # print(signos_vitales)\n",
    "    # sintomas_codificados = [ ]\n",
    "    for signos_vitales in signos_vitales.values():\n",
    "        caracteristica.append(signos_vitales)\n",
    "    # print(sintomas_codificados) \n",
    "    \n",
    "    signos_vitales_list.append(caracteristica)\n",
    "    \n",
    "    acciones_preventivas_list.append(acciones_preventivas.index(value[\"accion_preventiva\"]))\n",
    "\n",
    "# sintomas_list = np.array(sintomas_list)\n",
    "# signos_vitales_list = np.array(signos_vitales_list)\n",
    "caracteristica = np.array(caracteristica)\n",
    "acciones_preventivas_list = np.array(acciones_preventivas_list)"
   ]
  },
  {
   "cell_type": "code",
   "execution_count": 86,
   "metadata": {},
   "outputs": [
    {
     "name": "stdout",
     "output_type": "stream",
     "text": [
      "15\n"
     ]
    }
   ],
   "source": [
    "# print(sintomas_list)\n",
    "print( len(caracteristica))\n",
    "# print(acciones_preventivas_list)"
   ]
  },
  {
   "cell_type": "code",
   "execution_count": 89,
   "metadata": {},
   "outputs": [
    {
     "ename": "ValueError",
     "evalue": "Unrecognized data type: x=[1, 1, 1, 1, 0, 0, 0, 0, 0, 36, 120, 80, 70, 100, 1.5] (of type <class 'list'>)",
     "output_type": "error",
     "traceback": [
      "\u001b[1;31m---------------------------------------------------------------------------\u001b[0m",
      "\u001b[1;31mValueError\u001b[0m                                Traceback (most recent call last)",
      "Cell \u001b[1;32mIn[89], line 12\u001b[0m\n\u001b[0;32m      7\u001b[0m model\u001b[38;5;241m.\u001b[39mcompile(optimizer\u001b[38;5;241m=\u001b[39m\u001b[38;5;124m'\u001b[39m\u001b[38;5;124mAdam\u001b[39m\u001b[38;5;124m'\u001b[39m, loss\u001b[38;5;241m=\u001b[39m\u001b[38;5;124m'\u001b[39m\u001b[38;5;124mmean_squared_error\u001b[39m\u001b[38;5;124m'\u001b[39m)\n\u001b[0;32m      8\u001b[0m \u001b[38;5;66;03m# model.compile(optimizer='sgd', loss='mean_squared_error')\u001b[39;00m\n\u001b[0;32m      9\u001b[0m \n\u001b[0;32m     10\u001b[0m \n\u001b[0;32m     11\u001b[0m \u001b[38;5;66;03m# Entrenamiento del modelo\u001b[39;00m\n\u001b[1;32m---> 12\u001b[0m historial \u001b[38;5;241m=\u001b[39m \u001b[43mmodel\u001b[49m\u001b[38;5;241;43m.\u001b[39;49m\u001b[43mfit\u001b[49m\u001b[43m(\u001b[49m\u001b[43mcaracteristica\u001b[49m\u001b[43m,\u001b[49m\u001b[43m \u001b[49m\u001b[43macciones_preventivas_list\u001b[49m\u001b[43m,\u001b[49m\u001b[43m \u001b[49m\u001b[43mepochs\u001b[49m\u001b[38;5;241;43m=\u001b[39;49m\u001b[38;5;241;43m1000\u001b[39;49m\u001b[43m)\u001b[49m\n\u001b[0;32m     14\u001b[0m \u001b[38;5;66;03m# Evaluación del modelo\u001b[39;00m\n\u001b[0;32m     15\u001b[0m \u001b[38;5;66;03m# test_loss = model.evaluate(caracteristica, acciones_preventivas_list)\u001b[39;00m\n\u001b[0;32m     16\u001b[0m \u001b[38;5;66;03m# print(f'Error cuadrático medio en datos de entrenamiento: {test_loss}')\u001b[39;00m\n",
      "File \u001b[1;32mc:\\Users\\developer\\AppData\\Local\\Programs\\Python\\Python312\\Lib\\site-packages\\keras\\src\\utils\\traceback_utils.py:122\u001b[0m, in \u001b[0;36mfilter_traceback.<locals>.error_handler\u001b[1;34m(*args, **kwargs)\u001b[0m\n\u001b[0;32m    119\u001b[0m     filtered_tb \u001b[38;5;241m=\u001b[39m _process_traceback_frames(e\u001b[38;5;241m.\u001b[39m__traceback__)\n\u001b[0;32m    120\u001b[0m     \u001b[38;5;66;03m# To get the full stack trace, call:\u001b[39;00m\n\u001b[0;32m    121\u001b[0m     \u001b[38;5;66;03m# `keras.config.disable_traceback_filtering()`\u001b[39;00m\n\u001b[1;32m--> 122\u001b[0m     \u001b[38;5;28;01mraise\u001b[39;00m e\u001b[38;5;241m.\u001b[39mwith_traceback(filtered_tb) \u001b[38;5;28;01mfrom\u001b[39;00m \u001b[38;5;28;01mNone\u001b[39;00m\n\u001b[0;32m    123\u001b[0m \u001b[38;5;28;01mfinally\u001b[39;00m:\n\u001b[0;32m    124\u001b[0m     \u001b[38;5;28;01mdel\u001b[39;00m filtered_tb\n",
      "File \u001b[1;32mc:\\Users\\developer\\AppData\\Local\\Programs\\Python\\Python312\\Lib\\site-packages\\keras\\src\\trainers\\data_adapters\\__init__.py:113\u001b[0m, in \u001b[0;36mget_data_adapter\u001b[1;34m(x, y, sample_weight, batch_size, steps_per_epoch, shuffle, class_weight)\u001b[0m\n\u001b[0;32m    105\u001b[0m     \u001b[38;5;28;01mreturn\u001b[39;00m GeneratorDataAdapter(x)\n\u001b[0;32m    106\u001b[0m     \u001b[38;5;66;03m# TODO: should we warn or not?\u001b[39;00m\n\u001b[0;32m    107\u001b[0m     \u001b[38;5;66;03m# warnings.warn(\u001b[39;00m\n\u001b[0;32m    108\u001b[0m     \u001b[38;5;66;03m#     \"`shuffle=True` was passed, but will be ignored since the \"\u001b[39;00m\n\u001b[1;32m   (...)\u001b[0m\n\u001b[0;32m    111\u001b[0m     \u001b[38;5;66;03m# )\u001b[39;00m\n\u001b[0;32m    112\u001b[0m \u001b[38;5;28;01melse\u001b[39;00m:\n\u001b[1;32m--> 113\u001b[0m     \u001b[38;5;28;01mraise\u001b[39;00m \u001b[38;5;167;01mValueError\u001b[39;00m(\u001b[38;5;124mf\u001b[39m\u001b[38;5;124m\"\u001b[39m\u001b[38;5;124mUnrecognized data type: x=\u001b[39m\u001b[38;5;132;01m{\u001b[39;00mx\u001b[38;5;132;01m}\u001b[39;00m\u001b[38;5;124m (of type \u001b[39m\u001b[38;5;132;01m{\u001b[39;00m\u001b[38;5;28mtype\u001b[39m(x)\u001b[38;5;132;01m}\u001b[39;00m\u001b[38;5;124m)\u001b[39m\u001b[38;5;124m\"\u001b[39m)\n",
      "\u001b[1;31mValueError\u001b[0m: Unrecognized data type: x=[1, 1, 1, 1, 0, 0, 0, 0, 0, 36, 120, 80, 70, 100, 1.5] (of type <class 'list'>)"
     ]
    }
   ],
   "source": [
    "# Definición del modelo de regresión lineal\n",
    "model = tf.keras.Sequential([\n",
    "    tf.keras.layers.Dense(units=1, input_shape=[15])  # 15 características de entrada (síntomas)\n",
    "])\n",
    "\n",
    "# Compilación del modelo\n",
    "model.compile(optimizer='Adam', loss='mean_squared_error')\n",
    "# model.compile(optimizer='sgd', loss='mean_squared_error')\n",
    "\n",
    "\n",
    "# Entrenamiento del modelo\n",
    "historial = model.fit(caracteristica, acciones_preventivas_list, epochs=1000)\n",
    "\n",
    "# Evaluación del modelo\n",
    "test_loss = model.evaluate(caracteristica, acciones_preventivas_list)\n",
    "print(f'Error cuadrático medio en datos de entrenamiento: {test_loss}')"
   ]
  },
  {
   "cell_type": "code",
   "execution_count": 55,
   "metadata": {},
   "outputs": [
    {
     "name": "stdout",
     "output_type": "stream",
     "text": [
      "WARNING:tensorflow:5 out of the last 11 calls to <function TensorFlowTrainer.make_predict_function.<locals>.one_step_on_data_distributed at 0x0000027121F82B60> triggered tf.function retracing. Tracing is expensive and the excessive number of tracings could be due to (1) creating @tf.function repeatedly in a loop, (2) passing tensors with different shapes, (3) passing Python objects instead of tensors. For (1), please define your @tf.function outside of the loop. For (2), @tf.function has reduce_retracing=True option that can avoid unnecessary retracing. For (3), please refer to https://www.tensorflow.org/guide/function#controlling_retracing and https://www.tensorflow.org/api_docs/python/tf/function for  more details.\n",
      "\u001b[1m1/1\u001b[0m \u001b[32m━━━━━━━━━━━━━━━━━━━━\u001b[0m\u001b[37m\u001b[0m \u001b[1m0s\u001b[0m 32ms/step\n",
      "Predicciones de acciones preventivas:\n",
      "Síntomas: [0 1 0 1 0 0 1 1 0], Acción preventiva predicha: [54.702953]\n"
     ]
    },
    {
     "data": {
      "image/png": "[encoded data removed]",
      "text/plain": [
       "<Figure size 640x480 with 1 Axes>"
      ]
     },
     "metadata": {},
     "output_type": "display_data"
    }
   ],
   "source": [
    "# Hacer predicciones\n",
    "new_symptoms = np.array([[0,1,0,1,0,0,1,1,0]])\n",
    "predictions = model.predict(new_symptoms)\n",
    "print(\"Predicciones de acciones preventivas:\")\n",
    "for i in range(len(new_symptoms)):\n",
    "    print(f'Síntomas: {new_symptoms[i]}, Acción preventiva predicha: {predictions[i]}')\n",
    "\n",
    "# Visualización de los datos y la línea de regresión\n",
    "# plt.scatter(signos_vitales_list[:, 0], acciones_preventivas_list, color='red', label='Temperatura')\n",
    "# plt.scatter(signos_vitales_list[:, 1], acciones_preventivas_list, color='blue', label='Presión Sistólica')\n",
    "# plt.scatter(signos_vitales_list[:, 2], acciones_preventivas_list, color='green', label='Presión Diastólica')\n",
    "# plt.scatter(signos_vitales_list[:, 3], acciones_preventivas_list, color='orange', label='Frecuencia Cardiaca')\n",
    "# plt.scatter(signos_vitales_list[:, 4], acciones_preventivas_list, color='purple', label='Glucosa')\n",
    "# plt.scatter(signos_vitales_list[:, 5], acciones_preventivas_list, color='yellow', label='Presión Arterial')\n",
    "\n",
    "# plt.title('Relación entre Signos Vitales y Acciones Preventivas')\n",
    "# plt.xlabel('Signos Vitales')\n",
    "# plt.ylabel('Acciones Preventivas')\n",
    "# plt.legend()\n",
    "plt.xlabel(\"#Epoca\")\n",
    "plt.xlabel(\"Magnitud de perdida\")\n",
    "plt.plot(historial.history['loss'])\n",
    "plt.show()"
   ]
  },
  {
   "cell_type": "code",
   "execution_count": 56,
   "metadata": {},
   "outputs": [
    {
     "name": "stdout",
     "output_type": "stream",
     "text": [
      "\u001b[1m1/1\u001b[0m \u001b[32m━━━━━━━━━━━━━━━━━━━━\u001b[0m\u001b[37m\u001b[0m \u001b[1m0s\u001b[0m 21ms/step\n",
      "48\n"
     ]
    },
    {
     "name": "stderr",
     "output_type": "stream",
     "text": [
      "C:\\Users\\developer\\AppData\\Local\\Temp\\ipykernel_18840\\163230475.py:3: DeprecationWarning: Conversion of an array with ndim > 0 to a scalar is deprecated, and will error in future. Ensure you extract a single element from your array before performing this operation. (Deprecated NumPy 1.25.)\n",
      "  print(int(predictions))\n"
     ]
    }
   ],
   "source": [
    "new_symptoms = np.array([[0,0,0,0,0,0,0,0,0]])\n",
    "predictions = model.predict(new_symptoms)\n",
    "print(int(predictions))"
   ]
  }
 ],
 "metadata": {
  "kernelspec": {
   "display_name": "Python 3",
   "language": "python",
   "name": "python3"
  },
  "language_info": {
   "codemirror_mode": {
    "name": "ipython",
    "version": 3
   },
   "file_extension": ".py",
   "mimetype": "text/x-python",
   "name": "python",
   "nbconvert_exporter": "python",
   "pygments_lexer": "ipython3",
   "version": "3.12.2"
  }
 },
 "nbformat": 4,
 "nbformat_minor": 2
}
