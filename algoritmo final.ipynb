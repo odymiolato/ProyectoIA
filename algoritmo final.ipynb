{
 "cells": [
  {
   "cell_type": "code",
   "execution_count": 11,
   "metadata": {},
   "outputs": [],
   "source": [
    "import tensorflow as tf\n",
    "from tensorflow.keras.optimizers import Adam\n",
    "import numpy as np\n",
    "import matplotlib.pyplot as plt\n",
    "from pymongo import MongoClient\n",
    "from tqdm import tqdm"
   ]
  },
  {
   "cell_type": "code",
   "execution_count": 12,
   "metadata": {},
   "outputs": [],
   "source": [
    "client = MongoClient('localhost', 27017)\n",
    "db = client['IAtest']\n",
    "\n",
    "analisis_predictivos = db['modelos_de_analisis']\n",
    "data = list(analisis_predictivos.find())"
   ]
  },
  {
   "cell_type": "code",
   "execution_count": 13,
   "metadata": {},
   "outputs": [],
   "source": [
    "acciones_preventivas = [\n",
    "    \"Mantener reposo en cama\",\n",
    "    \"Beber líquidos abundantes\",\n",
    "    \"Tomar medicamentos para el dolor de cabeza\",\n",
    "    \"Consultar a un médico\",\n",
    "    \"Realizar ejercicios de respiración profunda\",\n",
    "    \"Evitar alimentos grasosos\",\n",
    "    \"Aplicar compresas frías en la frente\",\n",
    "    \"Monitorear la presión arterial regularmente\",\n",
    "]"
   ]
  },
  {
   "cell_type": "code",
   "execution_count": 15,
   "metadata": {},
   "outputs": [
    {
     "name": "stderr",
     "output_type": "stream",
     "text": [
      "Realizando Analisis:   0%|          | 0/800000 [00:00<?, ?modelo/s]"
     ]
    },
    {
     "name": "stderr",
     "output_type": "stream",
     "text": [
      "Realizando Analisis: 100%|██████████| 800000/800000 [00:03<00:00, 248399.03modelo/s]\n"
     ]
    }
   ],
   "source": [
    "sintomas_list = []\n",
    "signos_vitales_list = []\n",
    "acciones_preventivas_list = []\n",
    "caracteristica_list = []\n",
    "\n",
    "for value in tqdm(data, desc=\"Realizando Analisis\", unit=\"modelo\"):\n",
    "    caracteristica = []\n",
    "    sintomas = value[\"sintomas\"]\n",
    "    caracteristica = [1 if sintoma else 0 for sintoma in sintomas.values()]\n",
    "\n",
    "    signos_vitales = value[\"signos_vitales\"]    \n",
    "    for signos_vitales in signos_vitales.values():\n",
    "        caracteristica.append(signos_vitales)\n",
    "    \n",
    "    caracteristica_list.append(caracteristica)\n",
    "    acciones_preventivas_list.append(acciones_preventivas.index(value[\"accion_preventiva\"]))\n",
    " \n",
    "caracteristica_list = np.array(caracteristica_list)\n",
    "acciones_preventivas_list = np.array(acciones_preventivas_list)"
   ]
  },
  {
   "cell_type": "code",
   "execution_count": 16,
   "metadata": {},
   "outputs": [
    {
     "name": "stdout",
     "output_type": "stream",
     "text": [
      "800000\n",
      "800000\n"
     ]
    }
   ],
   "source": [
    "print(len(caracteristica_list))\n",
    "print(len(acciones_preventivas_list))"
   ]
  },
  {
   "cell_type": "code",
   "execution_count": 17,
   "metadata": {},
   "outputs": [
    {
     "name": "stderr",
     "output_type": "stream",
     "text": [
      "c:\\Users\\developer\\AppData\\Local\\Programs\\Python\\Python312\\Lib\\site-packages\\keras\\src\\layers\\core\\dense.py:86: UserWarning: Do not pass an `input_shape`/`input_dim` argument to a layer. When using Sequential models, prefer using an `Input(shape)` object as the first layer in the model instead.\n",
      "  super().__init__(activity_regularizer=activity_regularizer, **kwargs)\n"
     ]
    }
   ],
   "source": [
    "model = tf.keras.Sequential([\n",
    "    tf.keras.layers.Dense(units=1, input_shape=(1, 15))\n",
    "])\n",
    "\n",
    "\n",
    "# model.compile(optimizer='Adam', loss='mean_squared_error')\n",
    "model.compile(optimizer=Adam(0.01), loss='mean_squared_error')\n",
    "# model.compile(optimizer='sgd', loss='mean_squared_error')\n",
    "\n",
    "caracteristica_list = tf.stack(caracteristica_list)\n",
    "acciones_preventivas_list = tf.stack(acciones_preventivas_list)"
   ]
  },
  {
   "cell_type": "code",
   "execution_count": 18,
   "metadata": {},
   "outputs": [
    {
     "name": "stdout",
     "output_type": "stream",
     "text": [
      "Epoch 1/10\n",
      "\u001b[1m25000/25000\u001b[0m \u001b[32m━━━━━━━━━━━━━━━━━━━━\u001b[0m\u001b[37m\u001b[0m \u001b[1m13s\u001b[0m 489us/step - loss: 9.1706\n",
      "Epoch 2/10\n",
      "\u001b[1m25000/25000\u001b[0m \u001b[32m━━━━━━━━━━━━━━━━━━━━\u001b[0m\u001b[37m\u001b[0m \u001b[1m13s\u001b[0m 499us/step - loss: 0.0124\n",
      "Epoch 3/10\n",
      "\u001b[1m25000/25000\u001b[0m \u001b[32m━━━━━━━━━━━━━━━━━━━━\u001b[0m\u001b[37m\u001b[0m \u001b[1m12s\u001b[0m 494us/step - loss: 0.0124\n",
      "Epoch 4/10\n",
      "\u001b[1m25000/25000\u001b[0m \u001b[32m━━━━━━━━━━━━━━━━━━━━\u001b[0m\u001b[37m\u001b[0m \u001b[1m13s\u001b[0m 506us/step - loss: 0.0127\n",
      "Epoch 5/10\n",
      "\u001b[1m25000/25000\u001b[0m \u001b[32m━━━━━━━━━━━━━━━━━━━━\u001b[0m\u001b[37m\u001b[0m \u001b[1m13s\u001b[0m 513us/step - loss: 0.0127\n",
      "Epoch 6/10\n",
      "\u001b[1m25000/25000\u001b[0m \u001b[32m━━━━━━━━━━━━━━━━━━━━\u001b[0m\u001b[37m\u001b[0m \u001b[1m12s\u001b[0m 497us/step - loss: 0.0124\n",
      "Epoch 7/10\n",
      "\u001b[1m25000/25000\u001b[0m \u001b[32m━━━━━━━━━━━━━━━━━━━━\u001b[0m\u001b[37m\u001b[0m \u001b[1m13s\u001b[0m 506us/step - loss: 0.0128\n",
      "Epoch 8/10\n",
      "\u001b[1m25000/25000\u001b[0m \u001b[32m━━━━━━━━━━━━━━━━━━━━\u001b[0m\u001b[37m\u001b[0m \u001b[1m13s\u001b[0m 503us/step - loss: 0.0127\n",
      "Epoch 9/10\n",
      "\u001b[1m25000/25000\u001b[0m \u001b[32m━━━━━━━━━━━━━━━━━━━━\u001b[0m\u001b[37m\u001b[0m \u001b[1m13s\u001b[0m 512us/step - loss: 0.0128\n",
      "Epoch 10/10\n",
      "\u001b[1m25000/25000\u001b[0m \u001b[32m━━━━━━━━━━━━━━━━━━━━\u001b[0m\u001b[37m\u001b[0m \u001b[1m13s\u001b[0m 514us/step - loss: 0.0127\n",
      "\u001b[1m25000/25000\u001b[0m \u001b[32m━━━━━━━━━━━━━━━━━━━━\u001b[0m\u001b[37m\u001b[0m \u001b[1m11s\u001b[0m 445us/step - loss: 0.0688\n",
      "Error cuadrático medio en datos de entrenamiento: 0.07353173196315765\n"
     ]
    }
   ],
   "source": [
    "historial = model.fit(np.array(caracteristica_list), np.array(acciones_preventivas_list),epochs=10)\n",
    "\n",
    "test_loss = model.evaluate(np.array(caracteristica_list), np.array(acciones_preventivas_list))\n",
    "print(f'Error cuadrático medio en datos de entrenamiento: {test_loss}')"
   ]
  },
  {
   "cell_type": "code",
   "execution_count": 19,
   "metadata": {},
   "outputs": [
    {
     "data": {
      "image/png": "[encoded data removed]",
      "text/plain": [
       "<Figure size 640x480 with 1 Axes>"
      ]
     },
     "metadata": {},
     "output_type": "display_data"
    }
   ],
   "source": [
    "plt.xlabel(\"#Epoca\")\n",
    "plt.ylabel(\"Magnitud de perdida\")\n",
    "plt.plot(historial.history['loss'])\n",
    "plt.show()"
   ]
  },
  {
   "cell_type": "code",
   "execution_count": 20,
   "metadata": {},
   "outputs": [
    {
     "name": "stdout",
     "output_type": "stream",
     "text": [
      "\u001b[1m1/1\u001b[0m \u001b[32m━━━━━━━━━━━━━━━━━━━━\u001b[0m\u001b[37m\u001b[0m \u001b[1m0s\u001b[0m 36ms/step\n",
      "Predicciones de acciones preventivas:\n",
      "Síntomas: [  1.    1.    1.    1.    0.    0.    0.    0.    0.   36.  120.   80.\n",
      "  70.  100.    1.5], Acción preventiva predicha: [-0.25507987]\n"
     ]
    }
   ],
   "source": [
    "new_symptoms = np.array([[1,1,1,1,0,0,0,0,0,36,120,80,70,100,1.5]])\n",
    "# print(new_symptoms)\n",
    "\n",
    "predictions = model.predict(new_symptoms)\n",
    "print(\"Predicciones de acciones preventivas:\")\n",
    "for i in range(len(new_symptoms)):\n",
    "    print(f'Síntomas: {new_symptoms[i]}, Acción preventiva predicha: {predictions[i]}')\n"
   ]
  }
 ],
 "metadata": {
  "kernelspec": {
   "display_name": "Python 3",
   "language": "python",
   "name": "python3"
  },
  "language_info": {
   "codemirror_mode": {
    "name": "ipython",
    "version": 3
   },
   "file_extension": ".py",
   "mimetype": "text/x-python",
   "name": "python",
   "nbconvert_exporter": "python",
   "pygments_lexer": "ipython3",
   "version": "3.12.2"
  }
 },
 "nbformat": 4,
 "nbformat_minor": 2
}
